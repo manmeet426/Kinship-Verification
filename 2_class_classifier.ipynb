{
  "nbformat": 4,
  "nbformat_minor": 0,
  "metadata": {
    "colab": {
      "name": "2-class_classifier.ipynb",
      "version": "0.3.2",
      "provenance": [],
      "collapsed_sections": []
    },
    "kernelspec": {
      "name": "python3",
      "display_name": "Python 3"
    },
    "accelerator": "GPU"
  },
  "cells": [
    {
      "cell_type": "code",
      "metadata": {
        "id": "Av8kCYiP9-_R",
        "colab_type": "code",
        "outputId": "e31a1fed-cbca-4c24-843e-a06a4156109d",
        "colab": {
          "base_uri": "https://localhost:8080/",
          "height": 34
        }
      },
      "source": [
        "import matplotlib.pyplot as plt\n",
        "import os\n",
        "import glob\n",
        "import numpy as np\n",
        "from keras.utils.np_utils import to_categorical"
      ],
      "execution_count": 1,
      "outputs": [
        {
          "output_type": "stream",
          "text": [
            "Using TensorFlow backend.\n"
          ],
          "name": "stderr"
        }
      ]
    },
    {
      "cell_type": "code",
      "metadata": {
        "id": "pdgcVOXCP2Os",
        "colab_type": "code",
        "outputId": "b762f5af-dc2a-4fd9-b478-d69a93b89c6e",
        "colab": {
          "base_uri": "https://localhost:8080/",
          "height": 34
        }
      },
      "source": [
        "from google.colab import drive\n",
        "drive.mount('/content/drive')"
      ],
      "execution_count": 2,
      "outputs": [
        {
          "output_type": "stream",
          "text": [
            "Drive already mounted at /content/drive; to attempt to forcibly remount, call drive.mount(\"/content/drive\", force_remount=True).\n"
          ],
          "name": "stdout"
        }
      ]
    },
    {
      "cell_type": "code",
      "metadata": {
        "id": "QMYfjcQp-sSj",
        "colab_type": "code",
        "colab": {}
      },
      "source": [
        "def load_files(path):\n",
        "    '''\n",
        "    Input: path to parent child folder\n",
        "    Output: paths to parent files, paths to child files    \n",
        "    '''\n",
        "    parent_files = []\n",
        "    child_files = []\n",
        "    for file in os.listdir(path):\n",
        "        if file == \"Thumbs.db\":\n",
        "            continue\n",
        "        if file.split(\"_\")[2][0] == \"1\":\n",
        "            parent_files.append(os.path.join(path, file))\n",
        "        elif file.split(\"_\")[2][0] == \"2\":\n",
        "            child_files.append(os.path.join(path, file))\n",
        "    return parent_files, child_files\n",
        "# print(load_files(\"C:\\\\Users\\\\Manmeet\\\\Desktop\\\\Spring 2019\\\\NN\\\\Project\\\\KinFaceW-II\\\\KinFaceW-II\\\\images\\\\father-dau\"))"
      ],
      "execution_count": 0,
      "outputs": []
    },
    {
      "cell_type": "code",
      "metadata": {
        "id": "F0aa8mh7-sWx",
        "colab_type": "code",
        "colab": {}
      },
      "source": [
        "TRAIN_ROOT_DIR = \"C:\\\\Users\\\\Manmeet\\\\Desktop\\\\Spring 2019\\\\NN\\\\Project\\\\KinFaceW-II\\\\KinFaceW-II\\\\images\\\\\"\n",
        "TEST_ROOT_DIR = \"C:\\\\Users\\\\Manmeet\\\\Desktop\\\\Spring 2019\\\\NN\\\\Project\\\\KinFaceW-I\\\\KinFaceW-I\\\\images\\\\\"\n",
        "\n",
        "def make_pair_dict(ROOT_DIR):\n",
        "        pairs = os.listdir(ROOT_DIR)\n",
        "\n",
        "        parent_dict = {}\n",
        "        child_dict = {}\n",
        "\n",
        "        comb_key = 1\n",
        "        for pair in pairs:\n",
        "            pair_path = os.path.join(ROOT_DIR, pair)\n",
        "            parent_dict[comb_key], child_dict[comb_key] = load_files(pair_path)\n",
        "            comb_key += 1\n",
        "        return parent_dict, child_dict\n",
        "    \n",
        "train_parent_dict, train_child_dict = make_pair_dict(TRAIN_ROOT_DIR)\n",
        "test_parent_dict, test_child_dict = make_pair_dict(TEST_ROOT_DIR)"
      ],
      "execution_count": 0,
      "outputs": []
    },
    {
      "cell_type": "code",
      "metadata": {
        "id": "XsGysapE-sav",
        "colab_type": "code",
        "colab": {}
      },
      "source": [
        "def make_pairs(parent_dict, child_dict):\n",
        "    matched_pairs = []\n",
        "    unmatched_pairs = []\n",
        "    for parent_key in parent_dict.keys():\n",
        "        for child_key in child_dict.keys():\n",
        "            if parent_key == child_key:\n",
        "                for file in zip(parent_dict[parent_key], child_dict[child_key]):\n",
        "                    matched_pairs.append(load_images(file))\n",
        "            else:\n",
        "                for file in zip(parent_dict[parent_key], child_dict[child_key]):\n",
        "                    unmatched_pairs.append(load_images(file))\n",
        "    return matched_pairs, unmatched_pairs\n",
        "                    \n",
        "def load_images(file):\n",
        "    images = np.zeros((64, 64, 6))\n",
        "    parent = plt.imread(file[0])\n",
        "    images[:,:,0:3] = parent\n",
        "    child = plt.imread(file[1])\n",
        "    images[:,:,3:6] = child\n",
        "    return images\n",
        "\n",
        "train_matched_pairs, train_unmatched_pairs = make_pairs(train_parent_dict, train_child_dict)\n",
        "test_matched_pairs, test_unmatched_pairs = make_pairs(test_parent_dict, test_child_dict)"
      ],
      "execution_count": 0,
      "outputs": []
    },
    {
      "cell_type": "code",
      "metadata": {
        "id": "TLtGEwGPRyRG",
        "colab_type": "code",
        "colab": {}
      },
      "source": [
        "import numpy as np\n",
        "train_matched_pairs = np.load(\"/content/drive/My Drive/train_matched_pairs.npy\")\n",
        "train_unmatched_pairs = np.load(\"/content/drive/My Drive/train_unmatched_pairs.npy\")\n",
        "test_matched_pairs = np.load(\"/content/drive/My Drive/test_matched_pairs.npy\")\n",
        "test_unmatched_pairs = np.load(\"/content/drive/My Drive/test_unmatched_pairs.npy\")"
      ],
      "execution_count": 0,
      "outputs": []
    },
    {
      "cell_type": "code",
      "metadata": {
        "id": "kOuhkaHT-sei",
        "colab_type": "code",
        "colab": {
          "base_uri": "https://localhost:8080/",
          "height": 34
        },
        "outputId": "93ca6f81-9984-435e-98fc-bbe115be7269"
      },
      "source": [
        "from keras.utils.np_utils import to_categorical\n",
        "def train_test_and_make_labels(matched_pairs, unmatched_pairs):\n",
        "    matched_pairs = np.array(matched_pairs)\n",
        "    unmatched_pairs = np.array(unmatched_pairs)\n",
        "    labels = to_categorical(np.r_[np.ones(matched_pairs.shape[0]), np.zeros(unmatched_pairs.shape[0])])\n",
        "    pairs = np.r_[matched_pairs, unmatched_pairs]\n",
        "    return pairs, labels\n",
        "\n",
        "X_train, Y_train = train_test_and_make_labels(train_matched_pairs, train_unmatched_pairs)\n",
        "X_test, Y_test = train_test_and_make_labels(test_matched_pairs, test_unmatched_pairs)"
      ],
      "execution_count": 3,
      "outputs": [
        {
          "output_type": "stream",
          "text": [
            "Using TensorFlow backend.\n"
          ],
          "name": "stderr"
        }
      ]
    },
    {
      "cell_type": "code",
      "metadata": {
        "id": "b5QkuPkH-sht",
        "colab_type": "code",
        "outputId": "09bbc118-0db9-4dce-f0a5-3c19b3927078",
        "colab": {
          "base_uri": "https://localhost:8080/",
          "height": 34
        }
      },
      "source": [
        "X_train.shape, Y_train.shape, X_test.shape, Y_test.shape"
      ],
      "execution_count": 5,
      "outputs": [
        {
          "output_type": "execute_result",
          "data": {
            "text/plain": [
              "((4000, 64, 64, 6), (4000, 2), (2005, 64, 64, 6), (2005, 2))"
            ]
          },
          "metadata": {
            "tags": []
          },
          "execution_count": 5
        }
      ]
    },
    {
      "cell_type": "code",
      "metadata": {
        "id": "cxgSnV5X-so9",
        "colab_type": "code",
        "colab": {}
      },
      "source": [
        "from keras import layers\n",
        "from keras import models\n",
        "from keras import optimizers\n",
        "\n",
        "def model_2():\n",
        "    model = models.Sequential()\n",
        "    model.add(layers.Conv2D(16, (5, 5), strides=1, padding='valid', input_shape=(64, 64, 6), use_bias=False))\n",
        "    model.add(layers.BatchNormalization())\n",
        "    model.add(layers.Activation('relu'))\n",
        "    model.add(layers.MaxPooling2D((2, 2)))\n",
        "    \n",
        "    model.add(layers.Conv2D(32, (5, 5), use_bias=False))\n",
        "    model.add(layers.BatchNormalization())\n",
        "    model.add(layers.Activation('relu'))\n",
        "    model.add(layers.MaxPooling2D((2, 2)))\n",
        "    \n",
        "    model.add(layers.Conv2D(64, (5, 5), use_bias=False))\n",
        "    model.add(layers.BatchNormalization())\n",
        "    model.add(layers.Activation('relu'))\n",
        "    model.add(layers.MaxPooling2D((2, 2)))\n",
        "    \n",
        "    model.add(layers.Conv2D(64, (2, 2), use_bias=False))\n",
        "    model.add(layers.BatchNormalization())\n",
        "    model.add(layers.Activation('tanh'))\n",
        "    model.add(layers.MaxPooling2D((2, 2)))\n",
        "    \n",
        "    model.add(layers.Flatten())\n",
        "    model.add(layers.Dense(512, use_bias=False))\n",
        "    model.add(layers.BatchNormalization())\n",
        "    model.add(layers.Activation('tanh'))\n",
        "    \n",
        "    # model.add(layers.Dropout(0.4))\n",
        "    model.add(layers.Dense(2, activation='softmax'))\n",
        "    sgd = optimizers.SGD(lr=0.01, decay=1e-6, momentum=0.9, nesterov=True)\n",
        "    model.compile(optimizer=sgd, loss='binary_crossentropy', metrics=['accuracy'])\n",
        "    return model"
      ],
      "execution_count": 0,
      "outputs": []
    },
    {
      "cell_type": "code",
      "metadata": {
        "id": "zkp_uuHM_A-9",
        "colab_type": "code",
        "colab": {
          "base_uri": "https://localhost:8080/",
          "height": 221
        },
        "outputId": "e8e1f51d-5750-45b9-ff05-4bc8f19ad8cb"
      },
      "source": [
        "model = model_2()\n",
        "model.fit(X_train/255, Y_train, steps_per_epoch=20, epochs=5, verbose=1, shuffle=True, validation_data=(X_test/255, Y_test), validation_steps=100)"
      ],
      "execution_count": 7,
      "outputs": [
        {
          "output_type": "stream",
          "text": [
            "Train on 4000 samples, validate on 2005 samples\n",
            "Epoch 1/5\n",
            "20/20 [==============================] - 30s 2s/step - loss: 0.4571 - acc: 0.7841 - val_loss: 0.8970 - val_acc: 0.5751\n",
            "Epoch 2/5\n",
            "20/20 [==============================] - 29s 1s/step - loss: 0.2234 - acc: 0.9192 - val_loss: 0.6294 - val_acc: 0.7531\n",
            "Epoch 3/5\n",
            "20/20 [==============================] - 29s 1s/step - loss: 0.0960 - acc: 0.9801 - val_loss: 0.7743 - val_acc: 0.7337\n",
            "Epoch 4/5\n",
            "20/20 [==============================] - 29s 1s/step - loss: 0.1049 - acc: 0.9699 - val_loss: 0.9105 - val_acc: 0.7835\n",
            "Epoch 5/5\n",
            "20/20 [==============================] - 29s 1s/step - loss: 0.0280 - acc: 0.9989 - val_loss: 1.0015 - val_acc: 0.7805\n"
          ],
          "name": "stdout"
        },
        {
          "output_type": "execute_result",
          "data": {
            "text/plain": [
              "<keras.callbacks.History at 0x7fc0adf01f60>"
            ]
          },
          "metadata": {
            "tags": []
          },
          "execution_count": 7
        }
      ]
    },
    {
      "cell_type": "code",
      "metadata": {
        "id": "H9VIJU_CYAoN",
        "colab_type": "code",
        "colab": {}
      },
      "source": [
        "model.save(\"2-classifier-model.h5\")"
      ],
      "execution_count": 0,
      "outputs": []
    }
  ]
}