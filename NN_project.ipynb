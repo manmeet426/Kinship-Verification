{
 "cells": [
  {
   "cell_type": "code",
   "execution_count": 1,
   "metadata": {},
   "outputs": [
    {
     "name": "stderr",
     "output_type": "stream",
     "text": [
      "Using TensorFlow backend.\n"
     ]
    }
   ],
   "source": [
    "# Would be trying VGG16 as a convolutional base to further increase performance accuracy of the network.\n",
    "\n",
    "from keras.applications import VGG16\n",
    "\n",
    "conv_base = VGG16(weights='imagenet',\n",
    "                  include_top=False,\n",
    "                  input_shape=(64, 64, 3))"
   ]
  },
  {
   "cell_type": "code",
   "execution_count": 61,
   "metadata": {},
   "outputs": [
    {
     "data": {
      "text/plain": [
       "<matplotlib.image.AxesImage at 0x234a7706208>"
      ]
     },
     "execution_count": 61,
     "metadata": {},
     "output_type": "execute_result"
    },
    {
     "data": {
      "image/png": "[encoded data removed]",
      "text/plain": [
       "<Figure size 432x288 with 1 Axes>"
      ]
     },
     "metadata": {
      "needs_background": "light"
     },
     "output_type": "display_data"
    }
   ],
   "source": [
    "import matplotlib.pyplot as plt\n",
    "import os\n",
    "import glob\n",
    "import numpy as np\n",
    "\n",
    "\n",
    "# The load data function loads the files(images) from all the classes (f-d, f-s, m-d, m-s), prepares labels for the same\n",
    "# and calls import_dir which performs the function to merge the parent and child images into a single image as required for\n",
    "# input to the model.\n",
    "# returns all images from all folders into parent-child image form.\n",
    "def load_data(dirs):\n",
    "    all_images = []\n",
    "    all_labels = []\n",
    "    combination= {}\n",
    "    label = 1\n",
    "    for dir in sorted(os.listdir(dirs)):\n",
    "        dir_name = os.path.join(dirs, dir)\n",
    "        images, num_of_files = import_dir(dir_name)\n",
    "        all_images.append(images)\n",
    "        all_labels.append([label for i in range(num_of_files)])\n",
    "        print(dir_name)\n",
    "        print(len(images))\n",
    "        label += 1\n",
    "    return all_images, all_labels \n",
    "\n",
    "\n",
    "# import_dir reads all files(images) for a given directory (say father-dau) and combines parent-child images to form a single\n",
    "# 6 channel image which is used as input for the proposed model.\n",
    "# The start variable is required to skip any thumbs.db file that may be present in the folder containing the images.\n",
    "# return parent-child images for the given directory. \n",
    "\n",
    "def import_dir(dir_name):\n",
    "    files = sorted(os.listdir(dir_name))\n",
    "    dir_images = []\n",
    "    start = 0\n",
    "    if len(files)%2 != 0:\n",
    "        start = 1\n",
    "    for file1, file2 in zip(files[start::2], files[start+1::2]):\n",
    "        images = np.zeros((64, 64, 6))\n",
    "        #if file.split('.')[0][-1] == \"1\":\n",
    "        parent = plt.imread(os.path.join(dir_name, file1))\n",
    "        images[:,:,0:3] = parent\n",
    "        #if file.split('.')[0][-1] == \"2\":\n",
    "        child = plt.imread(os.path.join(dir_name, file2))\n",
    "        images[:,:,3:6] = child\n",
    "#       plt.imshow(images[:,:,5])\n",
    "#       plt.show()\n",
    "#       input(\" .... \")\n",
    "#       print(file)\n",
    "        dir_images.append(images)\n",
    "      \n",
    "    return dir_images, len(dir_images)\n",
    "\n",
    "dir_images, length = import_dir(\"C:\\\\Users\\\\Manmeet\\\\Desktop\\\\Spring 2019\\\\NN\\\\Project\\\\KinFaceW-II\\\\KinFaceW-II\\\\images\\\\father-dau\")\n",
    "plt.imshow(dir_images[78][:,:,1])\n"
   ]
  },
  {
   "cell_type": "code",
   "execution_count": 57,
   "metadata": {},
   "outputs": [],
   "source": [
    "# Code for another possible implementation to be tried later to get better performance\n",
    "\n",
    "# def import_parent(dir_name):\n",
    "#     files = sorted(os.listdir(dir_name))\n",
    "#     dir_images = []\n",
    "#     start = 0\n",
    "#     if len(files)%2 != 0:\n",
    "#         start = 1\n",
    "#     for file in files[start::2]:\n",
    "#         image = np.zeros((64, 64, 3))\n",
    "#         #if file.split('.')[0][-1] == \"1\":\n",
    "#         parent = plt.imread(os.path.join(dir_name, file))\n",
    "#         image[:,:,0:3] = parent\n",
    "#         #if file.split('.')[0][-1] == \"2\":\n",
    "# #         child = plt.imread(os.path.join(dir_name, file2))\n",
    "# #         images[:,:,3:6] = child\n",
    "# #       plt.imshow(images[:,:,5])\n",
    "# #       plt.show()\n",
    "# #       input(\" .... \")\n",
    "# #       print(file)\n",
    "#         dir_images.append(image)\n",
    "      \n",
    "#     return dir_images, len(dir_images)\n"
   ]
  },
  {
   "cell_type": "code",
   "execution_count": 58,
   "metadata": {},
   "outputs": [],
   "source": [
    "# Code for another possible implementation to be tried later to get better performance\n",
    "\n",
    "# def import_child(dir_name):\n",
    "#     files = sorted(os.listdir(dir_name))\n",
    "#     dir_images = []\n",
    "#     start = 0\n",
    "#     if len(files)%2 != 0:\n",
    "#         start = 1\n",
    "#     for file in files[start+1::2]:\n",
    "#         image = np.zeros((64, 64, 3))\n",
    "#         #if file.split('.')[0][-1] == \"1\":\n",
    "# #         parent = plt.imread(os.path.join(dir_name, file1))\n",
    "# #         images[:,:,0:3] = parent\n",
    "#         #if file.split('.')[0][-1] == \"2\":\n",
    "#         child = plt.imread(os.path.join(dir_name, file))\n",
    "#         image[:,:,0:3] = child\n",
    "# #       plt.imshow(images[:,:,5])\n",
    "# #       plt.show()\n",
    "# #       input(\" .... \")\n",
    "# #       print(file)\n",
    "#         dir_images.append(image)\n",
    "      \n",
    "#     return dir_images, len(dir_images)\n"
   ]
  },
  {
   "cell_type": "code",
   "execution_count": 59,
   "metadata": {},
   "outputs": [],
   "source": [
    "# Code for another possible implementation to be tried later to get better performance\n",
    "\n",
    "# def load_parent_child_images(dirs):\n",
    "#     parent_images = []\n",
    "#     child_images = []\n",
    "#     for dir in sorted(os.listdir(dirs)):\n",
    "#         dir_name = os.path.join(dirs, dir)\n",
    "#         parent_image, num_of_parent_files = import_parent(dir_name)\n",
    "#         parent_images.append(parent_image)\n",
    "#         child_image, num_of_child_files = import_child(dir_name)\n",
    "#         child_images.append(child_image)\n",
    "#         print(dir_name)\n",
    "#         print(len(parent_image))\n",
    "#         print(len(child_image))\n",
    "#     return parent_images, child_images    "
   ]
  },
  {
   "cell_type": "code",
   "execution_count": 60,
   "metadata": {},
   "outputs": [
    {
     "name": "stdout",
     "output_type": "stream",
     "text": [
      "C:\\Users\\Manmeet\\Desktop\\Spring 2019\\NN\\Project\\KinFaceW-II\\KinFaceW-II\\images\\father-dau\n",
      "250\n",
      "250\n",
      "C:\\Users\\Manmeet\\Desktop\\Spring 2019\\NN\\Project\\KinFaceW-II\\KinFaceW-II\\images\\father-son\n",
      "250\n",
      "250\n",
      "C:\\Users\\Manmeet\\Desktop\\Spring 2019\\NN\\Project\\KinFaceW-II\\KinFaceW-II\\images\\mother-dau\n",
      "250\n",
      "250\n",
      "C:\\Users\\Manmeet\\Desktop\\Spring 2019\\NN\\Project\\KinFaceW-II\\KinFaceW-II\\images\\mother-son\n",
      "250\n",
      "250\n"
     ]
    }
   ],
   "source": [
    "# Code for another possible implementation to be tried later to get better performance\n",
    "\n",
    "# parents, children = load_parent_child_images(\"C:\\\\Users\\\\Manmeet\\\\Desktop\\\\Spring 2019\\\\NN\\\\Project\\\\KinFaceW-II\\\\KinFaceW-II\\\\images\")"
   ]
  },
  {
   "cell_type": "code",
   "execution_count": 72,
   "metadata": {},
   "outputs": [
    {
     "name": "stdout",
     "output_type": "stream",
     "text": [
      "1000\n"
     ]
    }
   ],
   "source": [
    "# Code for another possible implementation to be tried later to get better performance\n",
    "\n",
    "# labels contains labels for both parent and child images.\n",
    "\n",
    "# iterator = 0\n",
    "# labels = []\n",
    "# for images in parents:\n",
    "#     for item in images:\n",
    "#         labels.append(iterator)\n",
    "#     iterator += 1\n",
    "# print(len(labels))"
   ]
  },
  {
   "cell_type": "code",
   "execution_count": 87,
   "metadata": {},
   "outputs": [],
   "source": [
    "# Code for another possible implementation to be tried later to get better performance\n",
    "\n",
    "# # Pass the parent images through the designed network.\n",
    "# from keras import layers\n",
    "# from keras import models\n",
    "# from keras import optimizers\n",
    "\n",
    "# def parent_model():\n",
    "#     model = models.Sequential()\n",
    "#     model.add(layers.Conv2D(64, (5, 5), strides=1, padding='valid', activation='relu', input_shape=(64, 64, 3)))\n",
    "#     model.add(layers.MaxPooling2D((2, 2)))\n",
    "#     model.add(layers.Conv2D(128, (5, 5), activation='relu'))\n",
    "#     model.add(layers.MaxPooling2D((2, 2)))\n",
    "#     model.add(layers.Conv2D(25, (2, 2), activation='relu'))\n",
    "#     model.add(layers.MaxPooling2D((2, 2)))\n",
    "#     model.add(layers.Conv2D(512, (5, 5), activation='relu'))\n",
    "#     model.add(layers.MaxPooling2D((2, 2)))\n",
    "# #     model.add(layers.Flatten())\n",
    "# #     model.add(layers.Dense(512, activation=layers.ReLU(max_value=1.0)))\n",
    "# # #model.add(layers.Dropout(0.4))\n",
    "# #     model.add(layers.Dense(4, activation='softmax'))\n",
    "# #     sgd = optimizers.SGD(lr=0.01, decay=1e-6, momentum=0.9, nesterov=True)\n",
    "# #     model.compile(optimizer=sgd, loss='categorical_crossentropy', metrics=['accuracy'])\n",
    "#     return model"
   ]
  },
  {
   "cell_type": "code",
   "execution_count": 88,
   "metadata": {},
   "outputs": [
    {
     "name": "stdout",
     "output_type": "stream",
     "text": [
      "_________________________________________________________________\n",
      "Layer (type)                 Output Shape              Param #   \n",
      "=================================================================\n",
      "conv2d_83 (Conv2D)           (None, 60, 60, 64)        4864      \n",
      "_________________________________________________________________\n",
      "max_pooling2d_80 (MaxPooling (None, 30, 30, 64)        0         \n",
      "_________________________________________________________________\n",
      "conv2d_84 (Conv2D)           (None, 26, 26, 128)       204928    \n",
      "_________________________________________________________________\n",
      "max_pooling2d_81 (MaxPooling (None, 13, 13, 128)       0         \n",
      "_________________________________________________________________\n",
      "conv2d_85 (Conv2D)           (None, 12, 12, 25)        12825     \n",
      "_________________________________________________________________\n",
      "max_pooling2d_82 (MaxPooling (None, 6, 6, 25)          0         \n",
      "_________________________________________________________________\n",
      "conv2d_86 (Conv2D)           (None, 2, 2, 512)         320512    \n",
      "_________________________________________________________________\n",
      "max_pooling2d_83 (MaxPooling (None, 1, 1, 512)         0         \n",
      "=================================================================\n",
      "Total params: 543,129\n",
      "Trainable params: 543,129\n",
      "Non-trainable params: 0\n",
      "_________________________________________________________________\n",
      "None\n"
     ]
    }
   ],
   "source": [
    "# Code for another possible implementation to be tried later to get better performance\n",
    "\n",
    "# par_model = parent_model()\n",
    "# print(par_model.summary())"
   ]
  },
  {
   "cell_type": "code",
   "execution_count": null,
   "metadata": {},
   "outputs": [],
   "source": [
    "# Code for another possible implementation to be tried later to get better performance\n",
    "\n",
    "# def layer2_model():\n",
    "#     model = models.Sequential()\n",
    "#     model.add(layers.Conv2D(64, (5, 5), strides=1, padding='valid', activation='relu', input_shape=(64, 64, 3)))\n",
    "#     model.add(layers.MaxPooling2D((2, 2)))\n",
    "#     model.add(layers.Conv2D(128, (5, 5), activation='relu'))\n",
    "#     model.add(layers.MaxPooling2D((2, 2)))\n",
    "#     model.add(layers.Conv2D(25, (2, 2), activation='relu'))\n",
    "#     model.add(layers.MaxPooling2D((2, 2)))\n",
    "#     model.add(layers.Conv2D(512, (5, 5), activation='relu'))\n",
    "#     model.add(layers.MaxPooling2D((2, 2)))\n",
    "# #     model.add(layers.Flatten())\n",
    "# #     model.add(layers.Dense(512, activation=layers.ReLU(max_value=1.0)))\n",
    "# # #model.add(layers.Dropout(0.4))\n",
    "# #     model.add(layers.Dense(4, activation='softmax'))\n",
    "# #     sgd = optimizers.SGD(lr=0.01, decay=1e-6, momentum=0.9, nesterov=True)\n",
    "# #     model.compile(optimizer=sgd, loss='categorical_crossentropy', metrics=['accuracy'])\n",
    "#     return model"
   ]
  },
  {
   "cell_type": "code",
   "execution_count": 62,
   "metadata": {},
   "outputs": [
    {
     "name": "stdout",
     "output_type": "stream",
     "text": [
      "C:\\Users\\Manmeet\\Desktop\\Spring 2019\\NN\\Project\\KinFaceW-II\\KinFaceW-II\\images\\father-dau\n",
      "250\n",
      "C:\\Users\\Manmeet\\Desktop\\Spring 2019\\NN\\Project\\KinFaceW-II\\KinFaceW-II\\images\\father-son\n",
      "250\n",
      "C:\\Users\\Manmeet\\Desktop\\Spring 2019\\NN\\Project\\KinFaceW-II\\KinFaceW-II\\images\\mother-dau\n",
      "250\n",
      "C:\\Users\\Manmeet\\Desktop\\Spring 2019\\NN\\Project\\KinFaceW-II\\KinFaceW-II\\images\\mother-son\n",
      "250\n"
     ]
    }
   ],
   "source": [
    "# Using the load_data function obtain the train images (in paernt-child format) along with the labels for each class\n",
    "# from the KinFaceW-II dataset.\n",
    "train_images, train_labels = load_data(\"C:\\\\Users\\\\Manmeet\\\\Desktop\\\\Spring 2019\\\\NN\\\\Project\\\\KinFaceW-II\\\\KinFaceW-II\\\\images\")"
   ]
  },
  {
   "cell_type": "code",
   "execution_count": 63,
   "metadata": {},
   "outputs": [],
   "source": [
    "# Combine all train_images obtained into a single variable train_img\n",
    "# Combine all train_labels obtained into a single variable train_labels\n",
    "train_img = np.r_[train_images[0], train_images[1], train_images[2], train_images[3]]\n",
    "train_labels = np.r_[np.array(train_labels[0]), np.array(train_labels[1]), np.array(train_labels[2]), np.array(train_labels[3])]"
   ]
  },
  {
   "cell_type": "code",
   "execution_count": 64,
   "metadata": {},
   "outputs": [
    {
     "name": "stdout",
     "output_type": "stream",
     "text": [
      "C:\\Users\\Manmeet\\Desktop\\Spring 2019\\NN\\Project\\KinFaceW-I\\KinFaceW-I\\images\\father-dau\n",
      "134\n",
      "C:\\Users\\Manmeet\\Desktop\\Spring 2019\\NN\\Project\\KinFaceW-I\\KinFaceW-I\\images\\father-son\n",
      "156\n",
      "C:\\Users\\Manmeet\\Desktop\\Spring 2019\\NN\\Project\\KinFaceW-I\\KinFaceW-I\\images\\mother-dau\n",
      "127\n",
      "C:\\Users\\Manmeet\\Desktop\\Spring 2019\\NN\\Project\\KinFaceW-I\\KinFaceW-I\\images\\mother-son\n",
      "116\n"
     ]
    }
   ],
   "source": [
    "# Obtain the test images (in parent-child form) along with the labels for each class\n",
    "# from the KinFaceW-I dataset.\n",
    "test_images, test_labels = load_data(\"C:\\\\Users\\\\Manmeet\\\\Desktop\\\\Spring 2019\\\\NN\\\\Project\\\\KinFaceW-I\\\\KinFaceW-I\\\\images\")"
   ]
  },
  {
   "cell_type": "code",
   "execution_count": 65,
   "metadata": {},
   "outputs": [
    {
     "data": {
      "text/plain": [
       "(533,)"
      ]
     },
     "execution_count": 65,
     "metadata": {},
     "output_type": "execute_result"
    }
   ],
   "source": [
    "# Combine all the test images into a single variable test_imgs\n",
    "# Combine all the test labels into a single variable test_lab\n",
    "\n",
    "test_img = np.zeros((len(test_images[0]) + len(test_images[1]) + len(test_images[2]) + len(test_images[3]), 64, 64, 6))\n",
    "test_img = np.r_[test_images[0], test_images[1], test_images[2], test_images[3]]\n",
    "test_lab = np.r_[np.array(test_labels[0]), np.array(test_labels[1]), np.array(test_labels[2]), np.array(test_labels[3])]\n",
    "test_lab.shape"
   ]
  },
  {
   "cell_type": "code",
   "execution_count": 66,
   "metadata": {},
   "outputs": [],
   "source": [
    "# Convert the labels into categorical variables for the multi-class classification task.\n",
    "\n",
    "from keras.utils import to_categorical\n",
    "train_labels_cat = to_categorical(train_labels - 1)\n",
    "test_labels_cat = to_categorical(test_lab - 1)"
   ]
  },
  {
   "cell_type": "code",
   "execution_count": 67,
   "metadata": {},
   "outputs": [
    {
     "name": "stderr",
     "output_type": "stream",
     "text": [
      "C:\\Users\\Manmeet\\AppData\\Local\\conda\\conda\\envs\\cs670\\lib\\site-packages\\keras_preprocessing\\image.py:1358: UserWarning: Expected input to be images (as Numpy array) following the data format convention \"channels_last\" (channels on axis 3), i.e. expected either 1, 3 or 4 channels on axis 3. However, it was passed an array with shape (1000, 64, 64, 6) (6 channels).\n",
      "  ' channels).')\n"
     ]
    }
   ],
   "source": [
    "# Prepare datagenerator for Data Augmetnation\n",
    "\n",
    "from keras.preprocessing.image import ImageDataGenerator\n",
    "\n",
    "datagen = ImageDataGenerator(\n",
    "        featurewise_center=False,  \n",
    "        samplewise_center=False,  \n",
    "        featurewise_std_normalization=False,  \n",
    "        samplewise_std_normalization=False,  \n",
    "        zca_whitening=False,  \n",
    "        rotation_range=10,  \n",
    "        zoom_range = 0.0,  \n",
    "        width_shift_range=0.1,  \n",
    "        height_shift_range=0.1,  \n",
    "        horizontal_flip=True) \n",
    "\n",
    "datagen.fit(train_img)"
   ]
  },
  {
   "cell_type": "code",
   "execution_count": 69,
   "metadata": {},
   "outputs": [],
   "source": [
    "# One possible variation for the proposed network architecture which results in lower performance.\n",
    "from keras import layers\n",
    "from keras import models\n",
    "from keras import optimizers\n",
    "\n",
    "# def model_1():\n",
    "#     model = models.Sequential()\n",
    "#     model.add(layers.Conv2D(16, (5, 5), strides=1, padding='valid', activation=layers.ReLU(max_value=0.5), input_shape=(64, 64, 6)))\n",
    "#     model.add(layers.MaxPooling2D((2, 2)))\n",
    "#     model.add(layers.Conv2D(32, (5, 5), activation=layers.ReLU(max_value=0.5)))\n",
    "#     model.add(layers.MaxPooling2D((2, 2)))\n",
    "#     model.add(layers.Conv2D(64, (5, 5), activation=layers.ReLU(max_value=0.5)))\n",
    "#     model.add(layers.MaxPooling2D((2, 2)))\n",
    "#     model.add(layers.Conv2D(64, (2, 2), activation=layers.ReLU(max_value=1.0)))\n",
    "#     model.add(layers.MaxPooling2D((2, 2)))\n",
    "#     model.add(layers.Flatten())\n",
    "#     model.add(layers.Dense(512, activation=layers.ReLU(max_value=1.0)))\n",
    "# #model.add(layers.Dropout(0.4))\n",
    "#     model.add(layers.Dense(4, activation='softmax'))\n",
    "#     sgd = optimizers.SGD(lr=0.01, decay=1e-6, momentum=0.9, nesterov=True)\n",
    "#     model.compile(optimizer=sgd, loss='categorical_crossentropy', metrics=['accuracy'])\n",
    "#     return model\n",
    "\n",
    "# "
   ]
  },
  {
   "cell_type": "code",
   "execution_count": 70,
   "metadata": {},
   "outputs": [],
   "source": [
    "# Proposed architecture for the neural network.\n",
    "\n",
    "from keras import models\n",
    "def model_2():\n",
    "    model = models.Sequential()\n",
    "    model.add(layers.Conv2D(16, (5, 5), strides=1, padding='valid', activation='relu', input_shape=(64, 64, 6)))\n",
    "    model.add(layers.MaxPooling2D((2, 2)))\n",
    "    model.add(layers.Conv2D(32, (5, 5), activation='relu'))\n",
    "    model.add(layers.MaxPooling2D((2, 2)))\n",
    "    model.add(layers.Conv2D(64, (5, 5), activation='relu'))\n",
    "    model.add(layers.MaxPooling2D((2, 2)))\n",
    "    model.add(layers.Conv2D(64, (2, 2), activation='relu'))\n",
    "    model.add(layers.MaxPooling2D((2, 2)))\n",
    "    model.add(layers.Flatten())\n",
    "    model.add(layers.Dense(512, activation='relu'))\n",
    "    # model.add(layers.Dropout(0.4))\n",
    "    model.add(layers.Dense(4, activation='softmax'))\n",
    "    sgd = optimizers.SGD(lr=0.01, decay=1e-6, momentum=0.9, nesterov=True)\n",
    "    model.compile(optimizer=sgd, loss='categorical_crossentropy', metrics=['accuracy'])\n",
    "    return model"
   ]
  },
  {
   "cell_type": "code",
   "execution_count": 91,
   "metadata": {},
   "outputs": [
    {
     "name": "stdout",
     "output_type": "stream",
     "text": [
      "Epoch 1/10\n",
      "1000/1000 [==============================] - 281s 281ms/step - loss: 1.2324 - acc: 0.3960\n",
      "Epoch 2/10\n",
      "1000/1000 [==============================] - 287s 287ms/step - loss: 0.9203 - acc: 0.5629\n",
      "Epoch 3/10\n",
      "1000/1000 [==============================] - 279s 279ms/step - loss: 0.7240 - acc: 0.6733\n",
      "Epoch 4/10\n",
      "1000/1000 [==============================] - 275s 275ms/step - loss: 0.5457 - acc: 0.7694\n",
      "Epoch 5/10\n",
      "1000/1000 [==============================] - 285s 285ms/step - loss: 0.4022 - acc: 0.8383\n",
      "Epoch 6/10\n",
      "1000/1000 [==============================] - 287s 287ms/step - loss: 0.3126 - acc: 0.8790\n",
      "Epoch 7/10\n",
      "1000/1000 [==============================] - 283s 283ms/step - loss: 0.2774 - acc: 0.8974\n",
      "Epoch 8/10\n",
      "1000/1000 [==============================] - 287s 287ms/step - loss: 0.2293 - acc: 0.9179\n",
      "Epoch 9/10\n",
      "1000/1000 [==============================] - 275s 275ms/step - loss: 0.2091 - acc: 0.9260\n",
      "Epoch 10/10\n",
      "1000/1000 [==============================] - 283s 283ms/step - loss: 0.1692 - acc: 0.9413\n"
     ]
    },
    {
     "data": {
      "text/plain": [
       "<keras.callbacks.History at 0x2348d06f940>"
      ]
     },
     "execution_count": 91,
     "metadata": {},
     "output_type": "execute_result"
    }
   ],
   "source": [
    "# Fit the training data with the Data generator to perform Data Augmentation.\n",
    "# Then, fit the model for the normalized train data.\n",
    "\n",
    "from keras.preprocessing.image import ImageDataGenerator\n",
    "\n",
    "datagen = ImageDataGenerator(\n",
    "        featurewise_center=False,  \n",
    "        samplewise_center=False,  \n",
    "        featurewise_std_normalization=False,  \n",
    "        samplewise_std_normalization=False,  \n",
    "        zca_whitening=False,  \n",
    "        rotation_range=10,  \n",
    "        zoom_range = 0.0,  \n",
    "        width_shift_range=0.1,  \n",
    "        height_shift_range=0.1,  \n",
    "        horizontal_flip=True) \n",
    "\n",
    "datagen.fit(train_img)\n",
    "model = model_2()\n",
    "model.fit_generator(datagen.flow(train_img/255, train_labels_cat), steps_per_epoch=train_img.shape[0], epochs=10, verbose=1, shuffle=True)"
   ]
  },
  {
   "cell_type": "code",
   "execution_count": 95,
   "metadata": {},
   "outputs": [
    {
     "name": "stdout",
     "output_type": "stream",
     "text": [
      "533/533 [==============================] - 2s 4ms/step\n"
     ]
    },
    {
     "data": {
      "text/plain": [
       "[2.661236596319957, 0.4915572347549292]"
      ]
     },
     "execution_count": 95,
     "metadata": {},
     "output_type": "execute_result"
    }
   ],
   "source": [
    "# Evaluate the performance as the accuracy on the test set.\n",
    "\n",
    "model.evaluate(test_img/255, test_labels_cat, batch_size=15)\n"
   ]
  },
  {
   "cell_type": "code",
   "execution_count": null,
   "metadata": {},
   "outputs": [],
   "source": []
  },
  {
   "cell_type": "code",
   "execution_count": 96,
   "metadata": {},
   "outputs": [],
   "source": [
    "# the above model is saved as model_with_data_augmentation in the same root file structure.\n",
    "\n",
    "model.save(\"model_with_data_augmentation\")\n",
    "\n"
   ]
  },
  {
   "cell_type": "code",
   "execution_count": 98,
   "metadata": {},
   "outputs": [
    {
     "data": {
      "text/plain": [
       "<keras.engine.sequential.Sequential at 0x23493f83940>"
      ]
     },
     "execution_count": 98,
     "metadata": {},
     "output_type": "execute_result"
    }
   ],
   "source": [
    "models.load_model(\"model_with_data_augmentation\")"
   ]
  },
  {
   "cell_type": "code",
   "execution_count": 45,
   "metadata": {},
   "outputs": [],
   "source": [
    "# Procedure to convert input images from the GUI into the required input shape for the model.(parent-child 6-channel combination)\n",
    "\n",
    "# image = np.zeros((64, 64, 6))\n",
    "# #if file.split('.')[0][-1] == \"1\":\n",
    "# parent = plt.imread(\"C:\\\\Users\\\\Manmeet\\\\Desktop\\\\Spring 2019\\\\NN\\\\Project\\\\KinFaceW-I\\\\KinFaceW-I\\\\images\\\\mother-son\\\\ms_004_1.jpg\")\n",
    "# image[:,:,0:3] = parent\n",
    "# #if file.split('.')[0][-1] == \"2\":\n",
    "# child = plt.imread(\"C:\\\\Users\\\\Manmeet\\\\Desktop\\\\Spring 2019\\\\NN\\\\Project\\\\KinFaceW-I\\\\KinFaceW-I\\\\images\\\\mother-son\\\\ms_004_2.jpg\")\n",
    "# image[:,:,3:6] = child\n",
    "\n",
    "# x= model.predict_classes(image.reshape(1,64,64,6))"
   ]
  },
  {
   "cell_type": "code",
   "execution_count": 46,
   "metadata": {},
   "outputs": [
    {
     "name": "stdout",
     "output_type": "stream",
     "text": [
      "Selected: C:/Users/Manmeet/Desktop/Spring 2019/NN/Project/KinFaceW-I/KinFaceW-I/images/father-son/fs_001_1.jpg\n",
      "Selected: C:/Users/Manmeet/Desktop/Spring 2019/NN/Project/KinFaceW-I/KinFaceW-I/images/father-son/fs_001_2.jpg\n",
      "Selected: C:/Users/Manmeet/Desktop/Spring 2019/NN/Project/KinFaceW-I/KinFaceW-I/images/father-son/fs_003_1.jpg\n",
      "Selected: C:/Users/Manmeet/Desktop/Spring 2019/NN/Project/KinFaceW-I/KinFaceW-I/images/father-son/fs_006_1.jpg\n",
      "Selected: C:/Users/Manmeet/Desktop/Spring 2019/NN/Project/KinFaceW-I/KinFaceW-I/images/father-son/fs_006_2.jpg\n",
      "Selected: C:/Users/Manmeet/Desktop/Spring 2019/NN/Project/KinFaceW-I/KinFaceW-I/images/father-son/fs_005_1.jpg\n",
      "Selected: C:/Users/Manmeet/Desktop/Spring 2019/NN/Project/KinFaceW-I/KinFaceW-I/images/father-son/fs_005_2.jpg\n",
      "Selected: C:/Users/Manmeet/Desktop/Spring 2019/NN/Project/KinFaceW-I/KinFaceW-I/images/father-son/fs_125_1.jpg\n",
      "Selected: C:/Users/Manmeet/Desktop/Spring 2019/NN/Project/KinFaceW-I/KinFaceW-I/images/father-son/fs_125_2.jpg\n",
      "Selected: C:/Users/Manmeet/Desktop/Spring 2019/NN/Project/KinFaceW-I/KinFaceW-I/images/father-son/fs_001_1.jpg\n",
      "Selected: C:/Users/Manmeet/Desktop/Spring 2019/NN/Project/KinFaceW-I/KinFaceW-I/images/father-son/fs_001_2.jpg\n",
      "Selected: C:/Users/Manmeet/Desktop/Spring 2019/NN/Project/KinFaceW-I/KinFaceW-I/images/father-son/fs_006_1.jpg\n",
      "Selected: C:/Users/Manmeet/Desktop/Spring 2019/NN/Project/KinFaceW-I/KinFaceW-I/images/father-son/fs_006_2.jpg\n"
     ]
    }
   ],
   "source": [
    "# GUI code \n",
    "\n",
    "from tkinter import *\n",
    "from PIL import ImageTk, Image\n",
    "from tkinter import filedialog\n",
    "from tkinter import messagebox\n",
    "\n",
    "# self.x['state'] = 'normal'\n",
    "\n",
    "\n",
    "# Controls the action for the first Upload button\n",
    "def UploadAction1(event=None):\n",
    "    filename = filedialog.askopenfilename()\n",
    "    button2['state'] = 'normal'\n",
    "    print('Selected:', filename)\n",
    "    global f1     \n",
    "    img = Image.open(filename)\n",
    "    img = img.resize((64, 64), Image.ANTIALIAS)\n",
    "    photo = ImageTk.PhotoImage(img)\n",
    "    \n",
    "    label = Label(image=photo)\n",
    "    label.image = photo # keep a reference!\n",
    "    label.grid(column=0, row=3)\n",
    "#     canvas.create_image(20,20, anchor=SW, image=img)\n",
    "\n",
    "    # Store the path of the selected file into a global variable, since we need to use it to form the combination of input images\n",
    "    # to pass as input to the model.\n",
    "    f1 = filename\n",
    "    \n",
    "# Controls the action for the second Upload button\n",
    "def UploadAction2(event=None):\n",
    "    filename = filedialog.askopenfilename()\n",
    "    global f2\n",
    "    print('Selected:', filename)\n",
    "    submit['state'] = 'normal'\n",
    "    # filename2 = filename.replace('/','\\\\')\n",
    "    img = Image.open(filename)\n",
    "    img = img.resize((64, 64), Image.ANTIALIAS)\n",
    "    photo = ImageTk.PhotoImage(img)\n",
    "    \n",
    "    label = Label(image=photo)\n",
    "    label.image = photo # keep a reference!\n",
    "    label.grid(column=10, row=3)\n",
    "    \n",
    "    # Store the path of the selected file into a global variable, since we need to use it to form the combination of input images\n",
    "    # to pass as input to the model.\n",
    "    f2 = filename\n",
    "     \n",
    "# Controls the action of the submit button, which triggers the formation of the input image to the model.\n",
    "# It displays the prediction in a separate dialog box.\n",
    "def SubmitAction():\n",
    "    \n",
    "    # form the parent-child image from the uploaded files\n",
    "    image = np.zeros((64, 64, 6))\n",
    "    #if file.split('.')[0][-1] == \"1\":\n",
    "    parent = plt.imread(f1)\n",
    "    image[:,:,0:3] = parent\n",
    "    #if file.split('.')[0][-1] == \"2\":\n",
    "    child = plt.imread(f2)\n",
    "    image[:,:,3:6] = child\n",
    "    \n",
    "    # pass this input to the model to make a prediction\n",
    "    x = model.predict_classes(image.reshape(1,64,64,6))\n",
    "    result = \"\"\n",
    "    \n",
    "    # Interpret the result based on the value returned by the predict_classes function\n",
    "    if(x[0] == 0):\n",
    "        result = \"The relationship is father-daughter\"\n",
    "    elif(x[0] == 1):\n",
    "        result = \"The relationship is father-son\"\n",
    "    elif(x[0] == 2):\n",
    "        result = \"The relationship is mother-daughter\"\n",
    "    elif(x[0] == 3):\n",
    "        result = \"The relationship is mother-son\"\n",
    "    \n",
    "    # Display the class result in a new dialog box.\n",
    "    msg = messagebox.showinfo( \"Classification\", result)\n",
    "    \n",
    "window = Tk()\n",
    "# to rename the title of the window\n",
    "window.title(\"GUI\")\n",
    "window.geometry(\"300x200\")\n",
    "window.configure(background='grey')\n",
    "\n",
    "button1 = Button(window, text='Upload Image 1', command=UploadAction1)\n",
    "# button1.pack(side=LEFT, fill=None, expand=True, padx=4, pady=1)\n",
    "button1.grid(column=0, padx=10, pady=4, row=1)\n",
    "\n",
    "\n",
    "button2 = Button(window, text='Upload Image 2', command=UploadAction2, state=DISABLED)\n",
    "button2.grid(column = 10, padx=10, pady=4, row=1)\n",
    "\n",
    "# canvas = Canvas(window, width = 300, height = 300)      \n",
    "# canvas.pack()      \n",
    "# img = PhotoImage(file=filename1)      \n",
    "# canvas.create_image(20,20, anchor=NW, image=img) \n",
    "\n",
    "submit = Button(window, text='Submit', command=SubmitAction, state=DISABLED)\n",
    "submit.grid(column = 3, row= 5)\n",
    "    \n",
    "# pack is used to show the object in the window\n",
    "# label = tkinter.Label(window, text = \"Hello World!\").pack()\n",
    "window.mainloop()"
   ]
  },
  {
   "cell_type": "code",
   "execution_count": null,
   "metadata": {},
   "outputs": [],
   "source": []
  }
 ],
 "metadata": {
  "kernelspec": {
   "display_name": "Python 3",
   "language": "python",
   "name": "python3"
  },
  "language_info": {
   "codemirror_mode": {
    "name": "ipython",
    "version": 3
   },
   "file_extension": ".py",
   "mimetype": "text/x-python",
   "name": "python",
   "nbconvert_exporter": "python",
   "pygments_lexer": "ipython3",
   "version": "3.6.8"
  }
 },
 "nbformat": 4,
 "nbformat_minor": 2
}
